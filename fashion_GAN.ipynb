{
 "cells": [
  {
   "cell_type": "markdown",
   "id": "6b0223b0",
   "metadata": {},
   "source": [
    "# **1.Install Dependecies and Data**\n"
   ]
  },
  {
   "cell_type": "code",
   "execution_count": null,
   "id": "5d5a31f8",
   "metadata": {
    "vscode": {
     "languageId": "plaintext"
    }
   },
   "outputs": [],
   "source": [
    "!pip install tensorflow matplotlib tensorflow-datasets ipywidgets\n"
   ]
  },
  {
   "cell_type": "markdown",
   "id": "586f7e43",
   "metadata": {},
   "source": []
  }
 ],
 "metadata": {
  "language_info": {
   "name": "python"
  }
 },
 "nbformat": 4,
 "nbformat_minor": 5
}
